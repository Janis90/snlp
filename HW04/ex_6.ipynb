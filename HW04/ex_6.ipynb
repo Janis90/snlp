{
 "cells": [
  {
   "cell_type": "markdown",
   "metadata": {},
   "source": [
    "# Exercise Sheet 4\n",
    "\n",
    "## Out of Vocabulary (OOV)\n",
    "1)\n"
   ]
  },
  {
   "cell_type": "code",
   "execution_count": 1,
   "metadata": {},
   "outputs": [],
   "source": [
    "from nltk.tokenize import RegexpTokenizer\n",
    "import operator\n",
    "import matplotlib.pyplot as plt\n",
    "\n",
    "def get_tokens(text_file):\n",
    "    \n",
    "    # ingore white spaces and symbols\n",
    "    tokenizer = RegexpTokenizer(r'\\w+')\n",
    "    \n",
    "    # open the text file and extract the tokens\n",
    "    with open(text_file, 'r', encoding='utf-8') as f:\n",
    "\n",
    "        # tokenize text and remove punctuation\n",
    "        tokens = tokenizer.tokenize(f.read())\n",
    "    \n",
    "    \n",
    "        # lowercase tokens\n",
    "        tokens = [x.lower() for x in tokens]\n",
    "    return tokens\n",
    "\n",
    "def create_vocab(text_file, vocab_size=-1):\n",
    "    '''\n",
    "    Returns the vocabulary of the input text of a given size. If vocab_size is -1, then all vocabularies will be included\n",
    "    '''\n",
    "    # extract tokens from text\n",
    "    tokens = get_tokens(text_file)\n",
    "        \n",
    "    # count the frequencies\n",
    "    vocab_dir = {}\n",
    "    for word in tokens:\n",
    "        vocab_dir[word] = vocab_dir.get(word, 0) + 1\n",
    "        \n",
    "    # sort by frequencies\n",
    "    vocab_sorted = sorted(vocab_dir.items(), key=operator.itemgetter(1), reverse=True)\n",
    "\n",
    "    # return the most frequent tokens with their frequencies\n",
    "    vocab_sized = vocab_sorted[0:min(vocab_size, len(vocab_sorted))]\n",
    "    \n",
    "    # return only the words\n",
    "    return [sample[0] for sample in vocab_sized]\n",
    "\n",
    "\n",
    "def get_oov(vocabulary, text_file):\n",
    "    \n",
    "    # extract tokens from text\n",
    "    tokens = get_tokens(text_file)\n",
    "    \n",
    "    oov_words = []\n",
    "    \n",
    "    for token in tokens:\n",
    "        if token not in vocabulary:\n",
    "            oov_words.append(token)\n",
    "            \n",
    "    return len(oov_words) / len(tokens)\n",
    "    \n",
    "# create vocabularies\n",
    "vocabs = []\n",
    "vocabs.append(create_vocab(\"Materials/train/train1.txt\"))\n",
    "vocabs.append(create_vocab(\"Materials/train/train2.txt\"))\n",
    "vocabs.append(create_vocab(\"Materials/train/train3.txt\"))\n",
    "vocabs.append(create_vocab(\"Materials/train/train4.txt\"))\n",
    "vocabs.append(create_vocab(\"Materials/train/train5.txt\"))\n",
    "\n",
    "# vocabulary sizes\n",
    "vocab_sizes = [len(vocabulary) for vocabulary in vocabs]\n",
    "\n",
    "# oov values of test text\n",
    "oov_vals = [get_oov(vocabulary, \"Materials/test/test.txt\") for vocabulary in vocabs]"
   ]
  },
  {
   "cell_type": "code",
   "execution_count": 2,
   "metadata": {},
   "outputs": [
    {
     "data": {
      "image/png": "[encoded data removed]",
      "text/plain": [
       "<matplotlib.figure.Figure at 0x1faa1d915c0>"
      ]
     },
     "metadata": {},
     "output_type": "display_data"
    }
   ],
   "source": [
    "plt.plot(vocab_sizes, oov_vals)\n",
    "plt.xlabel('vocabulary size')\n",
    "plt.ylabel('OOV amount')\n",
    "plt.show()"
   ]
  },
  {
   "cell_type": "markdown",
   "metadata": {},
   "source": [
    "Explanation: When the vocabulary contains a small amount of words the probability that a word appears in a test text which is not in the vocabulary is higher then for vocabulary with a higher amount of words. Therefore, the larger the vocabulary size the lower will be the OOV value for a test set. <br><br>\n",
    "OOV words might be probematic, as after learning a language model with training data, probability values are only computed for words in the (training) vocabulary. When computing a bigram probability in a certain test text it may happen that one of the two words is an OOV word and therefore does not have a trained probability i.e. its probability is 0. A 0-probability cannot be used for further computation. <br>\n",
    "A solution is to apply a smoothing method, which prevents 0-probabilities. Smoothing \"fakes\" the occurrence of actual OOV words and therefore manages that these words do not appear with probability 0."
   ]
  }
 ],
 "metadata": {
  "kernelspec": {
   "display_name": "Python 3",
   "language": "python",
   "name": "python3"
  },
  "language_info": {
   "codemirror_mode": {
    "name": "ipython",
    "version": 3
   },
   "file_extension": ".py",
   "mimetype": "text/x-python",
   "name": "python",
   "nbconvert_exporter": "python",
   "pygments_lexer": "ipython3",
   "version": "3.6.4"
  }
 },
 "nbformat": 4,
 "nbformat_minor": 2
}
